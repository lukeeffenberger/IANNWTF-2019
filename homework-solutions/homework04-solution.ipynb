{
 "cells": [
  {
   "cell_type": "markdown",
   "metadata": {},
   "source": [
    "# Homework 04 - TensorFlow\n",
    "\n",
    "In this homework you will practice what you learned about TensorFlow. You will implement the same network as in the last homework. But instead of using NumPy you will use TensorFlow."
   ]
  },
  {
   "cell_type": "code",
   "execution_count": 4,
   "metadata": {},
   "outputs": [],
   "source": [
    "import numpy as np \n",
    "import tensorflow as tf\n",
    "import matplotlib.pyplot as plt\n",
    "%matplotlib notebook"
   ]
  },
  {
   "cell_type": "markdown",
   "metadata": {},
   "source": [
    "### Build the dataset."
   ]
  },
  {
   "cell_type": "code",
   "execution_count": 5,
   "metadata": {},
   "outputs": [],
   "source": [
    "x = np.array([[0,0],[0,1],[1,0],[1,1]], dtype=np.float32)\n",
    "t = np.array([0,1,1,0], dtype=np.float32)\n",
    "train_dataset = tf.data.Dataset.from_tensor_slices((x,t))"
   ]
  },
  {
   "cell_type": "markdown",
   "metadata": {},
   "source": [
    "### The model."
   ]
  },
  {
   "cell_type": "markdown",
   "metadata": {},
   "source": [
    "We will build the following model\n",
    "\n",
    "![model](https://raw.githubusercontent.com/lukeeffenberger/IANNWTF-2019/master/homework-figures/mlp_xor.png)\n",
    "\n",
    "The activation function for **all** neurons is the logistic function\n",
    "\n",
    "$$ \\sigma(x) = \\frac{1}{1+e^{-x}}. $$\n",
    "\n",
    "You can reuse many parts from the notebook from the TensorFlow lecture.\n",
    "\n",
    "When building the model make sure to do the following:\n",
    "* initialize the weights with a random normal distribution with mean 0.0 and standard deviation 0.5\n",
    "* initialize the biases with a random normal distribution with mean 0.0 and standard deviation 0.05\n",
    "\n",
    "Check 'tf.random_normal_initializer()'.\n"
   ]
  },
  {
   "cell_type": "markdown",
   "metadata": {},
   "source": [
    "### Implement the model."
   ]
  },
  {
   "cell_type": "code",
   "execution_count": 3,
   "metadata": {},
   "outputs": [],
   "source": [
    "from tensorflow.keras.layers import Layer\n",
    "\n",
    "### YOUR CODE HERE ###\n",
    "# Implement the class for a linear layer.\n",
    "\n",
    "class Linear(Layer):\n",
    "    \"\"\"y = w.x + b\"\"\"\n",
    "    \n",
    "    def __init__(self, units):\n",
    "        super(Linear, self).__init__()\n",
    "        self.units = units\n",
    "        \n",
    "    def build(self, input_shape):\n",
    "        self.w = self.add_weight(\n",
    "                        shape=(input_shape[-1], self.units),\n",
    "                        initializer=tf.random_normal_initializer(stddev=0.5),\n",
    "                        trainable=True\n",
    "        )\n",
    "        self.b = self.add_weight(\n",
    "                        shape=(self.units,),\n",
    "                        initializer=tf.random_normal_initializer(),\n",
    "                        trainable=True\n",
    "        )\n",
    "    \n",
    "    def call(self, inputs):\n",
    "        return tf.matmul(inputs, self.w) + self.b\n",
    "\n",
    "######################"
   ]
  },
  {
   "cell_type": "code",
   "execution_count": 4,
   "metadata": {},
   "outputs": [],
   "source": [
    "### YOUR CODE HERE ###\n",
    "# Implement the class for the MLP.\n",
    "# Check 'tf.math.sigmoid()' for the activation function.\n",
    "\n",
    "class MLP(Layer):\n",
    "    \n",
    "    def __init__(self):\n",
    "        super(MLP, self).__init__()\n",
    "        # Here we instantiate the layers of our network\n",
    "        self.hidden_layer = Linear(4)\n",
    "        self.output_layer = Linear(1)\n",
    "         \n",
    "    def call(self, x):\n",
    "        x = self.hidden_layer(x)\n",
    "        x = tf.math.sigmoid(x)\n",
    "        x = self.output_layer(x)\n",
    "        x = tf.math.sigmoid(x)\n",
    "        return x\n",
    "    \n",
    "######################"
   ]
  },
  {
   "cell_type": "markdown",
   "metadata": {},
   "source": [
    "### Train the model."
   ]
  },
  {
   "cell_type": "markdown",
   "metadata": {},
   "source": [
    "Now that the model is built we train the network. Again you can reuse parts from the lecture. Note that we do not use any test data here, because there are only four data points.\n",
    "\n",
    "Make sure you do the following:\n",
    "* Use mean squared error as loss function.\n",
    "* Use the SGD optimizer with learning rate 1.\n",
    "* Train for 500 epochs.\n",
    "* For each epoch calculate the loss and accuracy and store it in a list. Note that there are no test data.\n",
    "\n",
    "If your model is not able to achieve 100% accuracy try and run it again. Sometimes you just have bad luck with initialization."
   ]
  },
  {
   "cell_type": "code",
   "execution_count": 5,
   "metadata": {},
   "outputs": [],
   "source": [
    "tf.keras.backend.clear_session()\n",
    "\n",
    "### YOUR CODE HERE ###\n",
    "# Initialize and train the MLP.\n",
    "losses = []\n",
    "accuracies = []\n",
    "epochs = []\n",
    "\n",
    "for epoch in range(500):\n",
    "    epochs.append(epoch)\n",
    "    # Buffer to calculate loss and accuracy for each epoch.\n",
    "    accuracy_buffer = 0\n",
    "    loss_buffer = 0\n",
    "    for (x,t) in train_dataset:\n",
    "        # Reshape the such that it is processed as a 2-dimensional input.\n",
    "        x = tf.reshape(x,shape=(-1,2))\n",
    "        # Forward step and compute gradients.\n",
    "        with tf.GradientTape() as tape:\n",
    "            output = mlp(x)\n",
    "            loss = mse(t, output)\n",
    "            gradients = tape.gradient(loss, mlp.trainable_variables)\n",
    "        # Apply gradients\n",
    "        optimizer.apply_gradients(zip(gradients, mlp.trainable_variables))  \n",
    "        # Store performance in buffer.\n",
    "        accuracy_buffer += int(float(output>=0.5) == t)\n",
    "        loss_buffer += loss\n",
    "   \n",
    "    accuracies.append(accuracy_buffer/4)\n",
    "    losses.append(loss_buffer)\n",
    "#######################"
   ]
  },
  {
   "cell_type": "markdown",
   "metadata": {},
   "source": [
    "### Visualize the training progress."
   ]
  },
  {
   "cell_type": "code",
   "execution_count": 6,
   "metadata": {},
   "outputs": [
    {
     "data": {
      "image/png": "[encoded data removed]",
      "text/plain": [
       "<Figure size 432x288 with 1 Axes>"
      ]
     },
     "metadata": {
      "needs_background": "light"
     },
     "output_type": "display_data"
    },
    {
     "data": {
      "image/png": "[encoded data removed]",
      "text/plain": [
       "<Figure size 432x288 with 1 Axes>"
      ]
     },
     "metadata": {
      "needs_background": "light"
     },
     "output_type": "display_data"
    }
   ],
   "source": [
    "### YOUR CODE HERE ###\n",
    "plt.figure()\n",
    "plt.plot(epochs,losses)\n",
    "plt.xlabel(\"Training Steps\")\n",
    "plt.ylabel(\"Loss\")\n",
    "plt.show()\n",
    "\n",
    "plt.figure()\n",
    "plt.plot(epochs,accuracies)\n",
    "plt.xlabel(\"Training Steps\")\n",
    "plt.ylabel(\"Accuracy\")\n",
    "plt.show()\n",
    "######################"
   ]
  }
 ],
 "metadata": {
  "kernelspec": {
   "display_name": "Python 3",
   "language": "python",
   "name": "python3"
  },
  "language_info": {
   "codemirror_mode": {
    "name": "ipython",
    "version": 3
   },
   "file_extension": ".py",
   "mimetype": "text/x-python",
   "name": "python",
   "nbconvert_exporter": "python",
   "pygments_lexer": "ipython3",
   "version": "3.7.3"
  }
 },
 "nbformat": 4,
 "nbformat_minor": 2
}
