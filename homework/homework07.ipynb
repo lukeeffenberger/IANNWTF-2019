{
 "cells": [
  {
   "cell_type": "markdown",
   "metadata": {},
   "source": [
    "# Homework 07 - Challenge\n",
    "\n",
    "In this homework you will apply your knowledge to create the best possible neural network to solve the FashionMNIST dataset. You can use everything that you have learned so far.\n",
    "\n",
    "The challenge is hosted on Kaggle: https://www.kaggle.com/t/26e38cf09340459cb798670a65c1e239\n",
    "\n",
    "You have to download the files 'train.csv' and 'test.csv' and place them in the same folder as below. Then run the next two cells.\n",
    "\n",
    "The first one imports all required libraries.  \n",
    "The second one loads the training data and splits it up into training and validation data. You should use the validation data for testing whether you model is able to generalize.\n",
    "\n",
    "The test data is only used to generate your submission files."
   ]
  },
  {
   "cell_type": "code",
   "execution_count": 13,
   "metadata": {},
   "outputs": [],
   "source": [
    "import numpy as np\n",
    "import tensorflow as tf\n",
    "import pandas as pd\n",
    "import matplotlib.pyplot as plt"
   ]
  },
  {
   "cell_type": "code",
   "execution_count": 38,
   "metadata": {},
   "outputs": [],
   "source": [
    "# Load the training data and split up into training and validation data.\n",
    "train_df = pd.read_csv('train.csv')\n",
    "train_images = np.reshape(train_df.values[:,1:], newshape=(-1,28,28))\n",
    "train_labels = train_df.values[:,0]\n",
    "validation_images = train_images[50000:,:,:]\n",
    "validation_labels = train_labels[50000:]\n",
    "train_images = train_images[:50000,:,:]\n",
    "train_labels = train_labels[:50000]"
   ]
  },
  {
   "cell_type": "code",
   "execution_count": 40,
   "metadata": {},
   "outputs": [
    {
     "data": {
      "image/png": "[encoded data removed]",
      "text/plain": [
       "<Figure size 432x288 with 1 Axes>"
      ]
     },
     "metadata": {
      "needs_background": "light"
     },
     "output_type": "display_data"
    }
   ],
   "source": [
    "# Make sure the images are as desired:\n",
    "plt.imshow(train_images[0],cmap='gray')\n",
    "plt.axis('off')\n",
    "plt.show()"
   ]
  },
  {
   "cell_type": "markdown",
   "metadata": {},
   "source": [
    "## Your Part\n",
    "\n",
    "In the following section you can do whatever you want. The following code is only there to display how a trained model can later be used to generate a submission file.\n",
    "\n",
    "You first should generate a tensorflow dataset and so on."
   ]
  },
  {
   "cell_type": "code",
   "execution_count": 41,
   "metadata": {},
   "outputs": [
    {
     "name": "stdout",
     "output_type": "stream",
     "text": [
      "SOMETHING\n",
      "SOMETHING\n",
      "SOMETHING\n"
     ]
    }
   ],
   "source": [
    "from tensorflow.keras.layers import Layer\n",
    "\n",
    "class Model(Layer):\n",
    "    \n",
    "    def __init__(self):\n",
    "        super(Model, self).__init__()\n",
    "        self.output_layer = tf.keras.layers.Dense(units=10,\n",
    "                                               activation=tf.keras.activations.softmax\n",
    "                                               )\n",
    "        \n",
    "    def call(self, x):\n",
    "        x = tf.reshape(x, shape=(-1,784))\n",
    "        x = self.output_layer(x)\n",
    "        return x\n",
    "    \n",
    "model = Model()\n",
    "\n",
    "\n",
    "for _ in range(3):\n",
    "    # TRAIN YOUR MODEL\n",
    "    print(\"SOMETHING\")   "
   ]
  },
  {
   "cell_type": "markdown",
   "metadata": {},
   "source": [
    "### Generate Submission File (Do not change anything here!)"
   ]
  },
  {
   "cell_type": "code",
   "execution_count": 47,
   "metadata": {},
   "outputs": [],
   "source": [
    "from datetime import datetime\n",
    "now = datetime.now()\n",
    "now_str = now.strftime('%d-%m-%Y-%H:%M:%S')\n",
    "\n",
    "# Load the test data.\n",
    "test_df = pd.read_csv('test.csv')\n",
    "test_images = np.reshape(test_df.values[:,:], newshape=(-1,28,28))\n",
    "\n",
    "# Get predictions.\n",
    "output = model(test_images).numpy()\n",
    "predictions = np.argmax(output, axis=1)\n",
    "\n",
    "# Save submission file.\n",
    "submission_data = np.zeros((10000,2), dtype=np.int)\n",
    "submission_data[:,0] = np.arange(10000)\n",
    "submission_data[:,1] = predictions\n",
    "df_submission = pd.DataFrame(data=data, columns=['ImageId','Prediction'], dtype=str)\n",
    "df_submission.to_csv('submission-'+ now_str +'.csv')"
   ]
  }
 ],
 "metadata": {
  "kernelspec": {
   "display_name": "Python 3",
   "language": "python",
   "name": "python3"
  },
  "language_info": {
   "codemirror_mode": {
    "name": "ipython",
    "version": 3
   },
   "file_extension": ".py",
   "mimetype": "text/x-python",
   "name": "python",
   "nbconvert_exporter": "python",
   "pygments_lexer": "ipython3",
   "version": "3.7.3"
  }
 },
 "nbformat": 4,
 "nbformat_minor": 2
}
