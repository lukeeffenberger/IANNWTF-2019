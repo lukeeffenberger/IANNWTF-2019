{
 "cells": [
  {
   "cell_type": "markdown",
   "metadata": {},
   "source": [
    "# Homework 04 - TensorFlow\n",
    "\n",
    "In this homework you will practice what you learned about TensorFlow. You will implement the same network as in the last homework. But instead of using NumPy you will use TensorFlow."
   ]
  },
  {
   "cell_type": "code",
   "execution_count": null,
   "metadata": {},
   "outputs": [],
   "source": [
    "import numpy as np \n",
    "import tensorflow as tf\n",
    "import matplotlib.pyplot as plt\n",
    "%matplotlib notebook"
   ]
  },
  {
   "cell_type": "markdown",
   "metadata": {},
   "source": [
    "### Build the dataset."
   ]
  },
  {
   "cell_type": "code",
   "execution_count": null,
   "metadata": {},
   "outputs": [],
   "source": [
    "x = np.array([[0,0],[0,1],[1,0],[1,1]], dtype=np.float32)\n",
    "t = np.array([0,1,1,0], dtype=np.float32)\n",
    "train_dataset = tf.data.Dataset.from_tensor_slices((x,t))"
   ]
  },
  {
   "cell_type": "markdown",
   "metadata": {},
   "source": [
    "### The model."
   ]
  },
  {
   "cell_type": "markdown",
   "metadata": {},
   "source": [
    "We will build the following model\n",
    "\n",
    "![model](https://raw.githubusercontent.com/lukeeffenberger/IANNWTF-2019/master/homework-figures/mlp_xor.png)\n",
    "\n",
    "The activation function for **all** neurons is the logistic function\n",
    "\n",
    "$$ \\sigma(x) = \\frac{1}{1+e^{-x}}. $$\n",
    "\n",
    "You can reuse many parts from the notebook from the TensorFlow lecture.\n",
    "\n",
    "When building the model make sure to do the following:\n",
    "* initialize the weights with a random normal distribution with mean 0.0 and standard deviation 0.5\n",
    "* initialize the biases with a random normal distribution with mean 0.0 and standard deviation 0.05 \n",
    "\n",
    "Check 'tf.random_normal_initializer()'.\n"
   ]
  },
  {
   "cell_type": "markdown",
   "metadata": {},
   "source": [
    "### Implement the model."
   ]
  },
  {
   "cell_type": "code",
   "execution_count": null,
   "metadata": {},
   "outputs": [],
   "source": [
    "from tensorflow.keras.layers import Layer\n",
    "\n",
    "### YOUR CODE HERE ###\n",
    "# Implement the class for a linear layer.\n",
    "\n",
    "\n",
    "######################"
   ]
  },
  {
   "cell_type": "code",
   "execution_count": null,
   "metadata": {},
   "outputs": [],
   "source": [
    "### YOUR CODE HERE ###\n",
    "# Implement the class for the MLP.\n",
    "# Check 'tf.math.sigmoid()' for the activation function.\n",
    "\n",
    "\n",
    "\n",
    "######################"
   ]
  },
  {
   "cell_type": "markdown",
   "metadata": {},
   "source": [
    "### Train the model."
   ]
  },
  {
   "cell_type": "markdown",
   "metadata": {},
   "source": [
    "Now that the model is built we train the network. Again you can reuse parts from the lecture. Note that we do not use any test data here, because there are only four data points.\n",
    "\n",
    "Make sure you do the following:\n",
    "* Use mean squared error as loss function.\n",
    "* Use the SGD optimizer with learning rate 1.\n",
    "* Train for 500 epochs.\n",
    "* For each epoch calculate the loss and accuracy and store it in a list. Note that there are no test data.\n",
    "\n",
    "If your model is not able to achieve 100% accuracy try and run it again. Sometimes you just have bad luck with initialization."
   ]
  },
  {
   "cell_type": "code",
   "execution_count": null,
   "metadata": {},
   "outputs": [],
   "source": [
    "tf.keras.backend.clear_session()\n",
    "\n",
    "### YOUR CODE HERE ###\n",
    "# Initialize and train the MLP.\n",
    "\n",
    "\n",
    "\n",
    "\n",
    "\n",
    "#######################"
   ]
  },
  {
   "cell_type": "markdown",
   "metadata": {},
   "source": [
    "### Visualize the training progress."
   ]
  },
  {
   "cell_type": "code",
   "execution_count": null,
   "metadata": {},
   "outputs": [],
   "source": [
    "import matplotlib.pyplot as plt"
   ]
  },
  {
   "cell_type": "code",
   "execution_count": null,
   "metadata": {},
   "outputs": [],
   "source": [
    "### YOUR CODE HERE ###\n",
    "\n",
    "\n",
    "######################"
   ]
  }
 ],
 "metadata": {
  "kernelspec": {
   "display_name": "Python 3",
   "language": "python",
   "name": "python3"
  },
  "language_info": {
   "codemirror_mode": {
    "name": "ipython",
    "version": 3
   },
   "file_extension": ".py",
   "mimetype": "text/x-python",
   "name": "python",
   "nbconvert_exporter": "python",
   "pygments_lexer": "ipython3",
   "version": "3.7.3"
  }
 },
 "nbformat": 4,
 "nbformat_minor": 2
}
