{
 "cells": [
  {
   "cell_type": "markdown",
   "metadata": {},
   "source": [
    "# Homework 06 - Convolutional Neural Networks\n",
    "\n",
    "In this homework you will implement a convolutional neural network to solve a object recognition task. The dataset you will work with is the CIFAR10 dataset, which contains small RGB images for ten different classes. \n",
    " \n",
    "To learn how you implement neural networks on your own I will only give minimal supervision, but you can get a lot of help from the last homework."
   ]
  },
  {
   "cell_type": "code",
   "execution_count": null,
   "metadata": {},
   "outputs": [],
   "source": [
    "import numpy as np\n",
    "import tensorflow as tf\n",
    "import matplotlib.pyplot as plt\n",
    "%matplotlib notebook"
   ]
  },
  {
   "cell_type": "code",
   "execution_count": null,
   "metadata": {},
   "outputs": [],
   "source": [
    "(train_images, train_labels), (test_images, test_labels) = tf.keras.datasets.cifar10.load_data()"
   ]
  },
  {
   "cell_type": "markdown",
   "metadata": {},
   "source": [
    "### Investigate the dataset.\n",
    "\n",
    "Q: *How many training/test images does this dataset have?*  \n",
    "A: YOUR ANSWER\n",
    "\n",
    "Q: *Which shape does one image have?*  \n",
    "A: YOUR ANSWER\n",
    "\n",
    "Q: *In which range are the pixel values?*  \n",
    "A: YOUR ANSWER"
   ]
  },
  {
   "cell_type": "code",
   "execution_count": null,
   "metadata": {},
   "outputs": [],
   "source": [
    "### YOUR CODE HERE ###\n",
    "# You can use this cell to find the information for the questions above.\n",
    "#######################"
   ]
  },
  {
   "cell_type": "markdown",
   "metadata": {},
   "source": [
    "#### Have a look at some images from the dataset."
   ]
  },
  {
   "cell_type": "code",
   "execution_count": null,
   "metadata": {},
   "outputs": [],
   "source": [
    "label_words = [\"airplane\", \"automobile\", \"bird\", \"cat\", \"deer\", \"dog\", \"frog\", \"horse\", \"ship\", \"truck\"]\n",
    "\n",
    "fig, ax = plt.subplots(5,5,figsize=(10,10))\n",
    "fig.tight_layout()\n",
    "ax = ax.flatten()\n",
    "for i in range(25):\n",
    "    ### YOUR CODE HERE ###\n",
    "    # Readout an image and the corresponding label.\n",
    "    \n",
    "    ######################\n",
    "    ax[i].imshow(img, cmap='gray')\n",
    "    ax[i].set_title(lbl)\n",
    "    ax[i].axis(\"off\")"
   ]
  },
  {
   "cell_type": "markdown",
   "metadata": {},
   "source": [
    "### Prepare the TensorFlow dataset."
   ]
  },
  {
   "cell_type": "code",
   "execution_count": null,
   "metadata": {},
   "outputs": [],
   "source": [
    "train_images = np.array(train_images, dtype=np.float32)\n",
    "test_images = np.array(test_images, dtype=np.float32)\n",
    "train_images, test_images = train_images / 255.0, test_images / 255.0\n",
    "train_dataset = tf.data.Dataset.from_tensor_slices((train_images, train_labels))\n",
    "test_dataset = tf.data.Dataset.from_tensor_slices((test_images, test_labels))\n",
    "\n",
    "# Shuffle the training dataset.\n",
    "# Use a batchsize of 32 for the training dataset.\n",
    "# Use full batch for the test dataset/\n",
    "#### YOUR CODE HERE ###\n",
    "\n",
    "#######################"
   ]
  },
  {
   "cell_type": "markdown",
   "metadata": {},
   "source": [
    "### Build the model."
   ]
  },
  {
   "cell_type": "code",
   "execution_count": null,
   "metadata": {},
   "outputs": [],
   "source": [
    "from tensorflow.keras.layers import Layer\n",
    "\n",
    "# You will implement a CNN. The layers you need are: tf.keras.layers.Conv2D, tf.keras.layers.MaxPool2D, \n",
    "# tf.keras.layers.Flatten, tf.keras.layers.Dense\n",
    "\n",
    "# Input\n",
    "# Convolutional layer: 32 kernels of size (3,3) with ReLU activation function (tf.keras.activations.relu)\n",
    "# Note: In the first layer you have to provide the input shape to the function (argument: input_shape).\n",
    "# Maxpooling layer: pooling size (2,2) and strides (2,2).\n",
    "# Convolutional layer: 64 kernels of size (3,3) with ReLU activation function \n",
    "# Maxpooling layer: pooling size (2,2) and strides (2,2).\n",
    "# Convolutional layer: 64 kernels of size (3,3) with ReLU activation function\n",
    "# Flatten the resulting ferature maps.\n",
    "# Fully connected layer with 64 hidden neurons and ReLU activation function.\n",
    "# Fully connected layer with 10 output neurons and softmax activation function (tf.keras.activations.softmax).\n",
    "\n",
    "class Model(Layer):\n",
    "    \n",
    "    def __init__(self):\n",
    "        super(Model, self).__init__()\n",
    "        ### YOUR CODE HERE ###\n",
    "        # Initialize all layers.\n",
    "        \n",
    "        ########################\n",
    "        \n",
    "    def call(self, x):\n",
    "        ### YOUR CODE HERE ###\n",
    "        # Define the model.\n",
    "        \n",
    "        ######################"
   ]
  },
  {
   "cell_type": "markdown",
   "metadata": {},
   "source": [
    "### Train the model."
   ]
  },
  {
   "cell_type": "code",
   "execution_count": null,
   "metadata": {},
   "outputs": [],
   "source": [
    "tf.keras.backend.clear_session()\n",
    "\n",
    "### YOUR CODE HERE ###\n",
    "# Initialize model, loss (categorical cross entropy) and optimizer (Adam with default params).\n",
    "\n",
    "######################\n",
    "\n",
    "# Initialize lists for later visualiztion\n",
    "train_steps = []\n",
    "train_losses = []\n",
    "train_accuracies = []\n",
    "test_steps = []\n",
    "test_losses = []\n",
    "test_accuracies = []\n",
    "step = 0\n",
    "\n",
    "\n",
    "for epoch in range(3):\n",
    "    \n",
    "    for (x,t) in train_dataset:\n",
    "        \n",
    "        t = tf.reshape(t, shape=[-1])\n",
    "        \n",
    "        ### YOUR CODE HERE ###\n",
    "        # Turn the labels into one-hot vectors.\n",
    "        \n",
    "        \n",
    "        # Perform a training step.\n",
    "    \n",
    "        \n",
    "        # Calculate the training accuracy every 25 steps.\n",
    "        \n",
    "        \n",
    "        # Calculate the test loss and accuracy every 50 steps.\n",
    "        \n",
    "        ########################\n",
    "        \n",
    "        step += 1"
   ]
  },
  {
   "cell_type": "markdown",
   "metadata": {},
   "source": [
    "### Visualize the training progress.\n",
    "\n",
    "Your model should achieve around 60-70% test accuracy."
   ]
  },
  {
   "cell_type": "code",
   "execution_count": null,
   "metadata": {},
   "outputs": [],
   "source": [
    "### YOUR CODE HERE ###\n",
    "\n",
    "######################"
   ]
  }
 ],
 "metadata": {
  "kernelspec": {
   "display_name": "Python 3",
   "language": "python",
   "name": "python3"
  },
  "language_info": {
   "codemirror_mode": {
    "name": "ipython",
    "version": 3
   },
   "file_extension": ".py",
   "mimetype": "text/x-python",
   "name": "python",
   "nbconvert_exporter": "python",
   "pygments_lexer": "ipython3",
   "version": "3.7.3"
  }
 },
 "nbformat": 4,
 "nbformat_minor": 2
}
